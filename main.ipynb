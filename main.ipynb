{
 "cells": [
  {
   "cell_type": "markdown",
   "id": "7070058d",
   "metadata": {},
   "source": [
    "## Ironhack Kaggle \n",
    "\n",
    "### Machine Learning - Predict Sales for Various Stores\n",
    "\n"
   ]
  }
 ],
 "metadata": {
  "language_info": {
   "name": "python"
  }
 },
 "nbformat": 4,
 "nbformat_minor": 5
}
