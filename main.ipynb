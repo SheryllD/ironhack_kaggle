{
 "cells": [
  {
   "cell_type": "markdown",
   "id": "7070058d",
   "metadata": {},
   "source": [
    "# Ironhack Kaggle \n",
    "Welcome to IronKaggle Competition: Predictive Sales Modeling Challenge!\n",
    "Today’s challenge is all about using your Machine Learning skills to predict sales for various stores. \n",
    "\n",
    "### Dataset\n",
    "Dataset: https://raw.githubusercontent.com/data-bootcamp-v4/data/main/sales.csv\n",
    "\n",
    "**Metadata:**\n",
    "\n",
    "- shop_ID: Unique identifier for each shop.\n",
    "- day_of_the_week: Encoded from 1 to 7, representing the day of the week.\n",
    "- date: Day, month, and year of the data point.\n",
    "- number_of_customers: Quantity of customers that visited the shop on that day.\n",
    "- open: Binary variable; 0 means the shop was closed, while 1 means it was open.\n",
    "- promotion: Binary variable; 0 means no promotions, 1 means there were promotions.\n",
    "- state_holiday: Encoded as 0, ‘a’, ‘b’, ‘c’, indicating the presence of a state holiday (0 if none). ‘a’, ‘b’, ‘c’ represent different state holidays.\n",
    "- school_holiday: Binary variable; 0 means no school holiday, 1 means there was a school holiday.\n",
    "\n",
    "**Deliverables**\n",
    "The Race Against Time: **Predictive Modeling Awaits** You’ll need to work quickly to build your predictive model. At 16:00, a new dataset(without target variable, you can find it here ) will be revealed, and you’ll use your model to predict sales. Get ready, collaborate with your partner, and let’s make some magic happen!\n",
    "\n",
    "By 17:00, predictions for the new dataset must be delivered, for you LT/TA to compare your predictions with the real label Solutions: here.\n",
    "\n"
   ]
  }
 ],
 "metadata": {
  "language_info": {
   "name": "python"
  }
 },
 "nbformat": 4,
 "nbformat_minor": 5
}
